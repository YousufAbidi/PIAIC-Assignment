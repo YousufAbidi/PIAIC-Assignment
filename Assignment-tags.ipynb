{
 "cells": [
  {
   "cell_type": "code",
   "execution_count": 7,
   "metadata": {},
   "outputs": [
    {
     "name": "stdout",
     "output_type": "stream",
     "text": [
      "10\n"
     ]
    }
   ],
   "source": [
    "# Count Tags In HTML File :-\n",
    "\n",
    "with open(\"example_html_file.html\", \"r\") as f:\n",
    "    fileContent = f.read()\n",
    "    \n",
    "    pairedTags = fileContent.count('</')\n",
    "    \n",
    "    unPairedTags = fileContent.count('/>')\n",
    "    \n",
    "    totalTags = pairedTags + unPairedTags\n",
    "    \n",
    "    print(totalTags)"
   ]
  },
  {
   "cell_type": "code",
   "execution_count": null,
   "metadata": {},
   "outputs": [],
   "source": []
  }
 ],
 "metadata": {
  "kernelspec": {
   "display_name": "Python 3",
   "language": "python",
   "name": "python3"
  },
  "language_info": {
   "codemirror_mode": {
    "name": "ipython",
    "version": 3
   },
   "file_extension": ".py",
   "mimetype": "text/x-python",
   "name": "python",
   "nbconvert_exporter": "python",
   "pygments_lexer": "ipython3",
   "version": "3.7.3"
  }
 },
 "nbformat": 4,
 "nbformat_minor": 2
}
