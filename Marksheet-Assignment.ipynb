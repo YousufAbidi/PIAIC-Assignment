{
 "cells": [
  {
   "cell_type": "code",
   "execution_count": 1,
   "metadata": {},
   "outputs": [
    {
     "name": "stdout",
     "output_type": "stream",
     "text": [
      "Enter Your Name:yousuf\n",
      "English Marks:65\n",
      "Urdu Marks:76\n",
      "Math Marks:87\n",
      "Physics Marks:98\n",
      "Chemistry Marks:78\n",
      "Islamiyat Marks:77\n",
      "Total Marks:600\n"
     ]
    }
   ],
   "source": [
    "import csv\n",
    "Name = input(\"Enter Your Name:\")\n",
    "English = float(input(\"English Marks:\"))\n",
    "Urdu = float(input(\"Urdu Marks:\"))\n",
    "Maths = float(input(\"Math Marks:\"))\n",
    "Physics = float(input(\"Physics Marks:\"))\n",
    "Chemistry = float(input(\"Chemistry Marks:\"))\n",
    "Islamiyat = float(input(\"Islamiyat Marks:\"))\n",
    "TotalMarks = float(input(\"Total Marks:\"))\n",
    "ObtainMarks = English + Urdu + Maths  + Physics + Chemistry + Islamiyat\n",
    "Grade = ''\n",
    "\n",
    "Percentage = float(ObtainMarks / TotalMarks * 100)\n",
    "\n",
    "if(Percentage>=80):\n",
    "    Grade='A+'\n",
    "elif(Percentage>=70 and Percentage<80):\n",
    "    Grade='A'\n",
    "elif(Percentage>=60 and Percentage<70):\n",
    "    Grade='B'\n",
    "elif(Percentage>=50 and Percentage<60):\n",
    "    Grade='D'\n",
    "elif(Percentage>=40 and Percentage<50):\n",
    "    Grade='E'\n",
    "else:\n",
    "    Grade='F'\n",
    "\n",
    "\n",
    "Result = [Name,English,Urdu,Maths,Islamiyat,Physics,Chemistry,ObtainMarks,TotalMarks,float(Percentage),Grade]\n",
    "\n",
    "with open(\"MarkSheet.csv\",\"w\" ,newline=\"\") as f:\n",
    "\n",
    "        file_handler = csv.writer(f, delimiter=',')    \n",
    "        \n",
    "        file_handler.writerow([\"Name\",\"English\",\"Urdu\",\"Maths\",\"Physics\",\"Chemistry\",\"Islamiyat\",\"Obtain Marks\",\"Total Marks\",\"Percentage\",\"Grade\"])\n",
    "        \n",
    "        \n",
    "        file_handler.writerow(Result)"
   ]
  },
  {
   "cell_type": "code",
   "execution_count": null,
   "metadata": {},
   "outputs": [],
   "source": []
  }
 ],
 "metadata": {
  "kernelspec": {
   "display_name": "Python 3",
   "language": "python",
   "name": "python3"
  },
  "language_info": {
   "codemirror_mode": {
    "name": "ipython",
    "version": 3
   },
   "file_extension": ".py",
   "mimetype": "text/x-python",
   "name": "python",
   "nbconvert_exporter": "python",
   "pygments_lexer": "ipython3",
   "version": "3.7.3"
  }
 },
 "nbformat": 4,
 "nbformat_minor": 2
}
